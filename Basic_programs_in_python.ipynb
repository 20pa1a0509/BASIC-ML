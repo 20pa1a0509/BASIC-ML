{
  "nbformat": 4,
  "nbformat_minor": 0,
  "metadata": {
    "colab": {
      "name": "Basic programs in python.ipynb",
      "provenance": []
    },
    "kernelspec": {
      "name": "python3",
      "display_name": "Python 3"
    },
    "language_info": {
      "name": "python"
    }
  },
  "cells": [
    {
      "cell_type": "markdown",
      "metadata": {
        "id": "dtS58Xh2ujoB"
      },
      "source": [
        "**BASIC PROGRAMS IN PYTHON**\n",
        "\n"
      ]
    },
    {
      "cell_type": "markdown",
      "metadata": {
        "id": "8V0fl4Mqsls-"
      },
      "source": [
        "(1)Program to determine whether the given year is leap year or not\n"
      ]
    },
    {
      "cell_type": "code",
      "metadata": {
        "colab": {
          "base_uri": "https://localhost:8080/"
        },
        "id": "Pz0wRUIKsqw-",
        "outputId": "2af8b322-c01d-48e3-92b9-428d87e8eddd"
      },
      "source": [
        "n=int(input())\n",
        "if (n%4==0 and n%100!=0) or n%400==0:\n",
        "\tprint(\"LEAP YEAR\")\n",
        "else:\n",
        "\tprint(\"ORDINARY YEAR\")\n"
      ],
      "execution_count": null,
      "outputs": [
        {
          "output_type": "stream",
          "text": [
            "2000\n",
            "LEAP YEAR\n"
          ],
          "name": "stdout"
        }
      ]
    },
    {
      "cell_type": "markdown",
      "metadata": {
        "id": "k-I5E7Mbs5ze"
      },
      "source": [
        "(2)Program to determine the greatest of 3 numbers "
      ]
    },
    {
      "cell_type": "code",
      "metadata": {
        "colab": {
          "base_uri": "https://localhost:8080/"
        },
        "id": "O-Cu8USItL5G",
        "outputId": "50bb6421-91dd-46c6-a391-79cf91c6322d"
      },
      "source": [
        "a=int(input())\n",
        "b=int(input())\n",
        "c=int(input())\n",
        "if a>=b and a>=c:\n",
        "\tprint(a)\n",
        "elif b>=c:\n",
        "\tprint(b)\n",
        "else:\n",
        "\tprint(c)\n",
        "\n"
      ],
      "execution_count": null,
      "outputs": [
        {
          "output_type": "stream",
          "text": [
            "10\n",
            "20\n",
            "30\n",
            "30\n"
          ],
          "name": "stdout"
        }
      ]
    },
    {
      "cell_type": "markdown",
      "metadata": {
        "id": "--6abygOuJpq"
      },
      "source": [
        "(3)Program to find the sum of digits of the given number"
      ]
    },
    {
      "cell_type": "code",
      "metadata": {
        "colab": {
          "base_uri": "https://localhost:8080/"
        },
        "id": "fwfc9s8huUC6",
        "outputId": "af826f36-0431-4756-fd68-d9e67bfb1642"
      },
      "source": [
        "n=int(input())\n",
        "sumd=0\n",
        "while n!=0:\n",
        "\tr=n%10\n",
        "\tsumd+=r\n",
        "\tn=n//10\n",
        "print(sumd)\n"
      ],
      "execution_count": null,
      "outputs": [
        {
          "output_type": "stream",
          "text": [
            "223\n",
            "7\n"
          ],
          "name": "stdout"
        }
      ]
    }
  ]
}